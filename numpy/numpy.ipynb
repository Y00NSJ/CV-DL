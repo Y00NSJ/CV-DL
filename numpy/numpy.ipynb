{
  "nbformat": 4,
  "nbformat_minor": 0,
  "metadata": {
    "colab": {
      "provenance": [],
      "authorship_tag": "ABX9TyMEOj2tUI97ewYIRAzvknum",
      "include_colab_link": true
    },
    "kernelspec": {
      "name": "python3",
      "display_name": "Python 3"
    },
    "language_info": {
      "name": "python"
    }
  },
  "cells": [
    {
      "cell_type": "markdown",
      "metadata": {
        "id": "view-in-github",
        "colab_type": "text"
      },
      "source": [
        "<a href=\"https://colab.research.google.com/github/Y00NSJ/CV-DL/blob/main/numpy/numpy.ipynb\" target=\"_parent\"><img src=\"https://colab.research.google.com/assets/colab-badge.svg\" alt=\"Open In Colab\"/></a>"
      ]
    },
    {
      "cell_type": "code",
      "execution_count": null,
      "metadata": {
        "id": "K6Q2vR4Wevg-",
        "colab": {
          "base_uri": "https://localhost:8080/"
        },
        "outputId": "2a94ad87-b0c2-408d-8297-4e09a5e816ac"
      },
      "outputs": [
        {
          "output_type": "stream",
          "name": "stdout",
          "text": [
            "배열의 차원 :  2\n",
            "배열의 형태 :  (2, 3)\n",
            "배열의 데이터 타입 :  int64\n",
            "\n",
            "요소 덧셈 결과 :  [5 7 9]\n",
            "배열 a의 모든 원소 제곱 결과 :  [1 4 9]\n",
            "배열 b의 평균값 :  5.0\n",
            "\n",
            "50\n",
            "[10 20 30]\n",
            "[20 50 80]\n",
            "\n",
            "[25 30 35]\n",
            "[10 15 20 25  0  0]\n",
            "\n",
            "0-9 정수 1차원 배열 :  [0 1 2 3 4 5 6 7 8 9]\n",
            "3*3 단위행렬 : \n",
            " [[1 0 0]\n",
            " [0 1 0]\n",
            " [0 0 1]]\n",
            "정렬 전 :  [2 1 1 1 0]\n",
            "정렬 후 :  [0 1 1 1 2]\n",
            "[[ 2.]\n",
            " [11.]\n",
            " [20.]]\n",
            "[ 2. 11. 20.]\n"
          ]
        }
      ],
      "source": [
        "import numpy as np\n",
        "\n",
        "arr = np.array([[1, 2, 3], [4, 5, 6]])\n",
        "\n",
        "print(\"배열의 차원 : \", arr.ndim)\n",
        "print(\"배열의 형태 : \", arr.shape)\n",
        "print(\"배열의 데이터 타입 : \", arr.dtype)\n",
        "print()\n",
        "\n",
        "\n",
        "a = np.array([1, 2, 3])\n",
        "b = np.array([4, 5, 6])\n",
        "print(\"요소 덧셈 결과 : \", a + b)\n",
        "print(\"배열 a의 모든 원소 제곱 결과 : \", a ** 2)\n",
        "print(\"배열 b의 평균값 : \", b.mean())\n",
        "print()\n",
        "\n",
        "\n",
        "arr = np.array([[10, 20, 30],\n",
        "                [40, 50, 60],\n",
        "                [70, 80, 90]])\n",
        "print(arr[1, 1])\n",
        "print(arr[0])\n",
        "print(arr[:, 1])\n",
        "print()\n",
        "\n",
        "\n",
        "arr = np.array([10, 15, 20, 25, 30, 35])\n",
        "print(arr[arr > 20])\n",
        "arr[arr >= 30] = 0\n",
        "print(arr)\n",
        "print()\n",
        "\n",
        "\n",
        "arr1 = np.arange(10)\n",
        "print(\"0-9 정수 1차원 배열 : \", arr1)\n",
        "arr2 = np.eye(3, dtype=int)\n",
        "print(\"3*3 단위행렬 : \\n\",arr2)\n",
        "arr3 = np.random.randint(0, 10, 5)\n",
        "print(\"정렬 전 : \", arr3)\n",
        "print(\"정렬 후 : \", np.sort(arr3))\n",
        "\n",
        "\n",
        "\n",
        "\n",
        "A = np.arange(9.).reshape(3,3)   # (3,3) 2d array\n",
        "x = np.array([2,0,1])             # (3,)  1d array\n",
        "y = x.reshape(1,3)                # (1,3) 2d array\n",
        "z = x.reshape(3,1)\n",
        "\n",
        "print(np.matmul(A,z))   # (3,3)*(3,1) -> (3,1)\n",
        "print(np.matmul(A,x))   # (3,3)*(3,) -> (3,)   # x의 차원이 (3,1)이 되었다가 계산 후 (3,)으로 축소"
      ]
    }
  ]
}