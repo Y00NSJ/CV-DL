{
  "nbformat": 4,
  "nbformat_minor": 0,
  "metadata": {
    "colab": {
      "provenance": [],
      "authorship_tag": "ABX9TyPGrHSHVdJkNenEQGpLPtzF",
      "include_colab_link": true
    },
    "kernelspec": {
      "name": "python3",
      "display_name": "Python 3"
    },
    "language_info": {
      "name": "python"
    }
  },
  "cells": [
    {
      "cell_type": "markdown",
      "metadata": {
        "id": "view-in-github",
        "colab_type": "text"
      },
      "source": [
        "<a href=\"https://colab.research.google.com/github/Y00NSJ/CV-DL/blob/main/ch2/hands_on.ipynb\" target=\"_parent\"><img src=\"https://colab.research.google.com/assets/colab-badge.svg\" alt=\"Open In Colab\"/></a>"
      ]
    },
    {
      "cell_type": "code",
      "execution_count": null,
      "metadata": {
        "id": "KR2F5MUjZ6i1"
      },
      "outputs": [],
      "source": [
        "# [2-2] 영상 파일 읽고 윈도우에 디스플레이\n",
        "import cv2 as cv\n",
        "import sys\n",
        "\n",
        "img = cv.imread('soccer.jpg')   # 영상 읽기\n",
        "if img is None:\n",
        "  sys.exit('파일을 찾을 수 없습니다.')\n",
        "print(type(img))                # OpenCV에서 영상은 numpy.ndarray 객체\n",
        "print(img.shape)                # (948 행, 1434 열, 채널 3개(BGR))\n",
        "\n",
        "cv.imshow('Image Display', img) # 윈도우에 영상 표시: 윈도우명, 출력할 영상\n",
        "\n",
        "cv.waitKey()                    # 키 입력 기다리기\n",
        "cv.destroyAllWindows()"
      ]
    },
    {
      "cell_type": "code",
      "source": [
        "# [2-3] 영상을 명암 영상으로 변환한 후 반으로 축소\n",
        "import cv2 as cv\n",
        "import sys\n",
        "\n",
        "img = cv.imread('soccer.jpg')\n",
        "if img is None:\n",
        "  sys.exit('파일을 찾을 수 없습니다.')\n",
        "\n",
        "gray = cv.cvtColor(img.cv.COLOR_BGR2GRAY)                 # BGR 컬러 영상을 흑백으로 변환\n",
        "gray_small = cv.resize(gray, dsize=(0,0), fx=0.5, fy=0.5) # 변환할 크기가 0,0일 경우 비율 인자에 의존\n",
        "\n",
        "cv.imwrite('soccer_gray.jpg', gray)\n",
        "cv.imwrite('soccer_gray_small.jpg', gray_small)\n",
        "\n",
        "cv.imshow('Color', img)\n",
        "cv.imshow('Gray', gray)\n",
        "cv.imshow('Gray Small', gray_small)\n",
        "\n",
        "cv.waitKey()\n",
        "cv.destroyAllWindows()"
      ],
      "metadata": {
        "id": "17keECAEhEfR"
      },
      "execution_count": null,
      "outputs": []
    },
    {
      "cell_type": "code",
      "source": [
        "# [2-4] 웹캠으로 비디오 획득\n",
        "import cv2 as cv\n",
        "import sys\n",
        "\n",
        "# 웹캠번호(1개일 시 0), 비디오를 바로 화면에 송출\n",
        "cap = cv.VideoCapture(00, cv.CAP_DSHOW)     # 카메라와 연결 시도\n",
        "if not cap.isOpened():\n",
        "  sys.exit('카메라 연결 실패')\n",
        "\n",
        "while True:\n",
        "  # 반환: 성공 여부, 프레임\n",
        "  ret, frame = cap.read()                   # 비디오를 구성하는 프레임 획득\n",
        "\n",
        "  if not ret:\n",
        "    print('프레임 획득에 실패하여 루프를 나갑니다.')\n",
        "    break\n",
        "\n",
        "  cv.imshow('Video Display', frame)\n",
        "\n",
        "  key = cv.waitKey(1)                       # 1밀리초 동안 키보드 입력 기다림\n",
        "  if key == ord('q'):                       # 'q' 키가 들어오면 루프 탈출\n",
        "    break\n",
        "\n",
        "cap.release()                               # 카메라와 연결을 끊음\n",
        "cv.destroyAllWindows()"
      ],
      "metadata": {
        "id": "SMzl1makjEC_"
      },
      "execution_count": null,
      "outputs": []
    },
    {
      "cell_type": "code",
      "source": [
        "# [2-5] 비디오에서 수집한 영상을 이어 붙이기\n",
        "import cv2 as cv\n",
        "import sys\n",
        "import numpy as np\n",
        "\n",
        "cap = cv.VideoCapture(00, cv.CAP_DSHOW)     # 카메라와 연결 시도\n",
        "if not cap.isOpened():\n",
        "  sys.exit('카메라 연결 실패')\n",
        "\n",
        "frames=[]\n",
        "\n",
        "while True:\n",
        "  ret, frame = cap.read()                   # 비디오를 구성하는 프레임 획득\n",
        "\n",
        "  if not ret:\n",
        "    print('프레임 획득에 실패하여 루프를 나갑니다.')\n",
        "    break\n",
        "\n",
        "  cv.imshow('Video Display', frame)\n",
        "\n",
        "  key = cv.waitKey(1)                       # 1밀리초 동안 키보드 입력 기다림\n",
        "  if key == ord('c'):\n",
        "    frames.append(frame)                    # 리스트에 프레임 추가\n",
        "  elif key == ord('q'):                     # 'q' 키가 들어오면 루프 탈출\n",
        "    break\n",
        "\n",
        "cap.release()                               # 카메라와 연결을 끊음\n",
        "cv.destroyAllWindows()\n",
        "\n",
        "\n",
        "if len(frames) > 0:\n",
        "  img = frames[0]\n",
        "  for i in range(1, min(3, len(frames))):\n",
        "    imgs = np.hstack((imgs, frames[i]))\n",
        "\n",
        "  cv.imshow('collected imgs', imgs)\n",
        "\n",
        "  print(len(frames))          # 7\n",
        "  print(frames[0].shape)      # (480, 640, 3)\n",
        "  print(type(imgs))           # numpy.ndarray\n",
        "  print(imgs.shape)           # 480, 1920, 3: 640*3, 영상 3개 이어붙임\n",
        "\n",
        "  cv.waitKey()\n",
        "  cv.destroyAllWindows()"
      ],
      "metadata": {
        "id": "md304BXTk5ji"
      },
      "execution_count": null,
      "outputs": []
    },
    {
      "cell_type": "code",
      "source": [
        "# [2-6] 영상에 도형을 그리고 글자 쓰기\n",
        "import cv2 as cv\n",
        "import sys\n",
        "\n",
        "img = cv.imread('girl.jpg')\n",
        "if img is None:\n",
        "  sys.exit('파일을 찾을 수 없습니다.')\n",
        "\n",
        "# 영상, 왼쪽위 꼭짓점 (x,y), 우측하단 꼭짓점 (x,y), BGR 컬러, 선의 두께\n",
        "cv.rectangle(img, (830,30), (1000,200), (0,0,255), 2)\n",
        "# 영상, 문자열, 왼쪽하단 꼭짓점, 폰트 종류, 글자 크기, 색, 글자 두께\n",
        "cv.putText(img, 'laughing', (830,24), cv.FONT_HERSHEY_SIMPLEX, 1, (255,0,0), 2)"
      ],
      "metadata": {
        "id": "JzADrnV_nfV8"
      },
      "execution_count": null,
      "outputs": []
    }
  ]
}