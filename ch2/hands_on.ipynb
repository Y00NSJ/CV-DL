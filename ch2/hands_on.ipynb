{
  "nbformat": 4,
  "nbformat_minor": 0,
  "metadata": {
    "colab": {
      "provenance": [],
      "authorship_tag": "ABX9TyMBpnmSKvSvF7yzNtpKcO9Z",
      "include_colab_link": true
    },
    "kernelspec": {
      "name": "python3",
      "display_name": "Python 3"
    },
    "language_info": {
      "name": "python"
    }
  },
  "cells": [
    {
      "cell_type": "markdown",
      "metadata": {
        "id": "view-in-github",
        "colab_type": "text"
      },
      "source": [
        "<a href=\"https://colab.research.google.com/github/Y00NSJ/CV-DL/blob/main/ch2/hands_on.ipynb\" target=\"_parent\"><img src=\"https://colab.research.google.com/assets/colab-badge.svg\" alt=\"Open In Colab\"/></a>"
      ]
    },
    {
      "cell_type": "code",
      "execution_count": null,
      "metadata": {
        "id": "KR2F5MUjZ6i1"
      },
      "outputs": [],
      "source": [
        "# 2-2. 영상 파일 읽고 윈도우에 디스플레이\n",
        "import cv2 as cv\n",
        "import sys\n",
        "\n",
        "img = cv.imread('soccer.jpg')   # 영상 읽기\n",
        "if img is None:\n",
        "  sys.exit('파일을 찾을 수 없습니다.')\n",
        "type(img)                       # OpenCV에서 영상은 numpy.ndarray 객체\n",
        "img.shape                       # (948 행, 1434 열, 채널 3개(BGR))\n",
        "\n",
        "cv.imshow('Image Display', img) # 윈도우에 영상 표시: 윈도우명, 출력할 영상\n",
        "\n",
        "cv.waitKey()                    # 키 입력 기다리기\n",
        "cv.destroyAllWindows()"
      ]
    }
  ]
}